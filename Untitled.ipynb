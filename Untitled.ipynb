{
 "cells": [
  {
   "cell_type": "code",
   "execution_count": 1,
   "id": "c2d03d09",
   "metadata": {},
   "outputs": [
    {
     "name": "stdout",
     "output_type": "stream",
     "text": [
      " * Serving Flask app '__main__'\n",
      " * Debug mode: on\n"
     ]
    },
    {
     "name": "stderr",
     "output_type": "stream",
     "text": [
      "WARNING: This is a development server. Do not use it in a production deployment. Use a production WSGI server instead.\n",
      " * Running on http://127.0.0.1:5000\n",
      "Press CTRL+C to quit\n",
      " * Restarting with watchdog (windowsapi)\n"
     ]
    },
    {
     "ename": "SystemExit",
     "evalue": "1",
     "output_type": "error",
     "traceback": [
      "An exception has occurred, use %tb to see the full traceback.\n",
      "\u001b[1;31mSystemExit\u001b[0m\u001b[1;31m:\u001b[0m 1\n"
     ]
    },
    {
     "name": "stderr",
     "output_type": "stream",
     "text": [
      "C:\\Users\\sahuja\\AppData\\Local\\anaconda3\\envs\\dev\\lib\\site-packages\\IPython\\core\\interactiveshell.py:3513: UserWarning: To exit: use 'exit', 'quit', or Ctrl-D.\n",
      "  warn(\"To exit: use 'exit', 'quit', or Ctrl-D.\", stacklevel=1)\n"
     ]
    }
   ],
   "source": [
    "from flask import Flask, jsonify\n",
    "import numpy as np\n",
    "import datetime as dt\n",
    "\n",
    "app = Flask(__name__)\n",
    "\n",
    "# Define the homepage\n",
    "@app.route(\"/\")\n",
    "def home():\n",
    "    return (\n",
    "        f\"Welcome to the Climate App!<br/>\"\n",
    "        f\"Available routes:<br/>\"\n",
    "        f\"/api/v1.0/precipitation<br/>\"\n",
    "        f\"/api/v1.0/stations<br/>\"\n",
    "        f\"/api/v1.0/tobs<br/>\"\n",
    "        f\"/api/v1.0/&lt;start&gt;<br/>\"\n",
    "        f\"/api/v1.0/&lt;start&gt;/&lt;end&gt;\"\n",
    "    )\n",
    "\n",
    "# Precipitation route\n",
    "@app.route(\"/api/v1.0/precipitation\")\n",
    "def precipitation():\n",
    "    # Query to get the last 12 months of precipitation data\n",
    "    last_year_precipitation = session.query(Measurement.date, Measurement.prcp).\\\n",
    "        filter(Measurement.date >= one_year_ago).all()\n",
    "    \n",
    "    # Convert the query result to a dictionary\n",
    "    precipitation_data = {date: prcp for date, prcp in last_year_precipitation}\n",
    "    \n",
    "    return jsonify(precipitation_data)\n",
    "\n",
    "# Stations route\n",
    "@app.route(\"/api/v1.0/stations\")\n",
    "def stations():\n",
    "    # Query to get the list of stations\n",
    "    station_list = session.query(Station.station).all()\n",
    "    \n",
    "    # Convert the query result to a list\n",
    "    stations = list(np.ravel(station_list))\n",
    "    \n",
    "    return jsonify(stations)\n",
    "\n",
    "# Temperature observations route\n",
    "@app.route(\"/api/v1.0/tobs\")\n",
    "def tobs():\n",
    "    # Query to get the temperature observations for the most active station for the last 12 months\n",
    "    temperature_data = session.query(Measurement.date, Measurement.tobs).\\\n",
    "        filter(Measurement.station == most_active_station).\\\n",
    "        filter(Measurement.date >= one_year_ago).all()\n",
    "    \n",
    "    # Convert the query result to a list of dictionaries\n",
    "    tobs_data = [{'date': date, 'temperature': temp} for date, temp in temperature_data]\n",
    "    \n",
    "    return jsonify(tobs_data)\n",
    "\n",
    "# Temperature statistics route\n",
    "@app.route(\"/api/v1.0/<start>\")\n",
    "@app.route(\"/api/v1.0/<start>/<end>\")\n",
    "def temperature_stats(start, end=None):\n",
    "    # Query to calculate temperature statistics for the specified date range\n",
    "    if end is None:\n",
    "        temp_stats = session.query(func.min(Measurement.tobs), func.avg(Measurement.tobs), func.max(Measurement.tobs)).\\\n",
    "            filter(Measurement.date >= start).all()\n",
    "    else:\n",
    "        temp_stats = session.query(func.min(Measurement.tobs), func.avg(Measurement.tobs), func.max(Measurement.tobs)).\\\n",
    "            filter(Measurement.date >= start).filter(Measurement.date <= end).all()\n",
    "\n",
    "    # Convert the query result to a dictionary\n",
    "    stats_dict = {\n",
    "        \"start_date\": start,\n",
    "        \"end_date\": end,\n",
    "        \"min_temperature\": temp_stats[0][0],\n",
    "        \"avg_temperature\": temp_stats[0][1],\n",
    "        \"max_temperature\": temp_stats[0][2]\n",
    "    }\n",
    "\n",
    "    return jsonify(stats_dict)\n",
    "\n",
    "if __name__ == \"__main__\":\n",
    "    app.run(debug=True)\n"
   ]
  },
  {
   "cell_type": "code",
   "execution_count": null,
   "id": "88900e49",
   "metadata": {},
   "outputs": [],
   "source": []
  }
 ],
 "metadata": {
  "kernelspec": {
   "display_name": "Python 3 (ipykernel)",
   "language": "python",
   "name": "python3"
  },
  "language_info": {
   "codemirror_mode": {
    "name": "ipython",
    "version": 3
   },
   "file_extension": ".py",
   "mimetype": "text/x-python",
   "name": "python",
   "nbconvert_exporter": "python",
   "pygments_lexer": "ipython3",
   "version": "3.10.11"
  }
 },
 "nbformat": 4,
 "nbformat_minor": 5
}
